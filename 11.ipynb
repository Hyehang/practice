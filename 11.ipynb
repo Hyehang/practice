{
 "cells": [
  {
   "cell_type": "code",
   "execution_count": 1,
   "id": "c31793f0-bf71-4b46-9984-7562c25acc26",
   "metadata": {},
   "outputs": [],
   "source": [
    "import json"
   ]
  },
  {
   "cell_type": "code",
   "execution_count": 3,
   "id": "1015c79d-c04f-4431-9212-712aa1b1f750",
   "metadata": {},
   "outputs": [],
   "source": [
    "geo = json.load(open('SIG.geojson', encoding = 'UTF-8'))"
   ]
  },
  {
   "cell_type": "code",
   "execution_count": 8,
   "id": "7820ee0e-0573-444c-8c22-5990f786d86d",
   "metadata": {},
   "outputs": [
    {
     "data": {
      "text/plain": [
       "{'SIG_CD': '42110', 'SIG_ENG_NM': 'Chuncheon-si', 'SIG_KOR_NM': '춘천시'}"
      ]
     },
     "execution_count": 8,
     "metadata": {},
     "output_type": "execute_result"
    }
   ],
   "source": [
    "geo['features'][0]['properties']"
   ]
  },
  {
   "cell_type": "code",
   "execution_count": 11,
   "id": "22d071b4-e7b4-44e1-ba6f-510f5381e49a",
   "metadata": {},
   "outputs": [],
   "source": [
    "import pandas as pd"
   ]
  },
  {
   "cell_type": "code",
   "execution_count": 12,
   "id": "256f307d-8dfb-4b1e-bed8-2574b874ca25",
   "metadata": {},
   "outputs": [],
   "source": [
    "df_pop = pd.read_csv('Population_SIG.csv')"
   ]
  },
  {
   "cell_type": "code",
   "execution_count": 13,
   "id": "f64e0553-420f-43b8-b7df-3dcc0302dca9",
   "metadata": {},
   "outputs": [
    {
     "data": {
      "text/html": [
       "<div>\n",
       "<style scoped>\n",
       "    .dataframe tbody tr th:only-of-type {\n",
       "        vertical-align: middle;\n",
       "    }\n",
       "\n",
       "    .dataframe tbody tr th {\n",
       "        vertical-align: top;\n",
       "    }\n",
       "\n",
       "    .dataframe thead th {\n",
       "        text-align: right;\n",
       "    }\n",
       "</style>\n",
       "<table border=\"1\" class=\"dataframe\">\n",
       "  <thead>\n",
       "    <tr style=\"text-align: right;\">\n",
       "      <th></th>\n",
       "      <th>code</th>\n",
       "      <th>region</th>\n",
       "      <th>pop</th>\n",
       "    </tr>\n",
       "  </thead>\n",
       "  <tbody>\n",
       "    <tr>\n",
       "      <th>0</th>\n",
       "      <td>11</td>\n",
       "      <td>서울특별시</td>\n",
       "      <td>9509458</td>\n",
       "    </tr>\n",
       "    <tr>\n",
       "      <th>1</th>\n",
       "      <td>11110</td>\n",
       "      <td>종로구</td>\n",
       "      <td>144683</td>\n",
       "    </tr>\n",
       "    <tr>\n",
       "      <th>2</th>\n",
       "      <td>11140</td>\n",
       "      <td>중구</td>\n",
       "      <td>122499</td>\n",
       "    </tr>\n",
       "    <tr>\n",
       "      <th>3</th>\n",
       "      <td>11170</td>\n",
       "      <td>용산구</td>\n",
       "      <td>222953</td>\n",
       "    </tr>\n",
       "    <tr>\n",
       "      <th>4</th>\n",
       "      <td>11200</td>\n",
       "      <td>성동구</td>\n",
       "      <td>285990</td>\n",
       "    </tr>\n",
       "  </tbody>\n",
       "</table>\n",
       "</div>"
      ],
      "text/plain": [
       "    code region      pop\n",
       "0     11  서울특별시  9509458\n",
       "1  11110    종로구   144683\n",
       "2  11140     중구   122499\n",
       "3  11170    용산구   222953\n",
       "4  11200    성동구   285990"
      ]
     },
     "execution_count": 13,
     "metadata": {},
     "output_type": "execute_result"
    }
   ],
   "source": [
    "df_pop.head()"
   ]
  },
  {
   "cell_type": "code",
   "execution_count": 14,
   "id": "b6380f9c-7b0f-4f40-8448-a2bda0cd1465",
   "metadata": {},
   "outputs": [
    {
     "name": "stdout",
     "output_type": "stream",
     "text": [
      "<class 'pandas.core.frame.DataFrame'>\n",
      "RangeIndex: 278 entries, 0 to 277\n",
      "Data columns (total 3 columns):\n",
      " #   Column  Non-Null Count  Dtype \n",
      "---  ------  --------------  ----- \n",
      " 0   code    278 non-null    int64 \n",
      " 1   region  278 non-null    object\n",
      " 2   pop     278 non-null    int64 \n",
      "dtypes: int64(2), object(1)\n",
      "memory usage: 6.6+ KB\n"
     ]
    }
   ],
   "source": [
    "df_pop.info()"
   ]
  },
  {
   "cell_type": "code",
   "execution_count": 15,
   "id": "c3e66bb1-3bc9-473a-9c8f-cf9223de6bf5",
   "metadata": {},
   "outputs": [],
   "source": [
    "df_pop['code'] = df_pop['code'].astype(str)"
   ]
  },
  {
   "cell_type": "code",
   "execution_count": 16,
   "id": "8cd039af-0f7b-4291-a63a-39a0652200fb",
   "metadata": {},
   "outputs": [],
   "source": [
    "import folium"
   ]
  },
  {
   "cell_type": "code",
   "execution_count": 21,
   "id": "b78b5b21-49e4-4cad-a8a3-1ae8f4b9f653",
   "metadata": {},
   "outputs": [],
   "source": [
    "map_sig = folium.Map(location = [35.95,127.7],\n",
    "          zoom_start = 8,\n",
    "          tiles = 'cartodbpositron')"
   ]
  },
  {
   "cell_type": "code",
   "execution_count": 23,
   "id": "3668bd5e-6176-4b1a-8b05-61483e9a0d26",
   "metadata": {},
   "outputs": [
    {
     "data": {
      "text/plain": [
       "[8867.0, 50539.6, 142382.20000000004, 266978.6, 423107.20000000024, 13565450.0]"
      ]
     },
     "execution_count": 23,
     "metadata": {},
     "output_type": "execute_result"
    }
   ],
   "source": [
    "bins = list(df_pop[\"pop\"].quantile([0,0.2,0.4,0.6,0.8,1]))\n",
    "bins"
   ]
  },
  {
   "cell_type": "code",
   "execution_count": 24,
   "id": "c3eb5a81-440f-4da9-a7a1-8a3bee1acef8",
   "metadata": {},
   "outputs": [],
   "source": [
    "map_sig = folium.Map(location = [35.95,127.7],\n",
    "                    zoom_start = 8,\n",
    "                    tiles = 'cartodbpositron')"
   ]
  },
  {
   "cell_type": "code",
   "execution_count": null,
   "id": "4bd5fa25-147c-46bc-b3a2-2fe352af53da",
   "metadata": {},
   "outputs": [],
   "source": [
    "folium.Choropleth(\n",
    "                geo_data = geo,\n",
    "                data = df_pop,\n",
    "                columns = ('code','pop'),\n",
    "                key_on = 'feature.properties.SIG_CD',\n",
    "                fill_color = 'YlGnBu',\n",
    "                fill_opacity = 1,\n",
    "                line_opacity = 0.5,\n",
    "                bins = bins ) \\\n",
    "                    .add_to(map_sig)\n",
    "map_sig"
   ]
  },
  {
   "cell_type": "markdown",
   "id": "140788b3-b601-4b63-bb5f-8c5410c9924f",
   "metadata": {},
   "source": [
    "### 서울시 동별 외국인 인구 단계 구분도 만들기"
   ]
  },
  {
   "cell_type": "code",
   "execution_count": 30,
   "id": "6a2b16dd-eb59-4d58-885f-13669542c24d",
   "metadata": {},
   "outputs": [],
   "source": [
    "import json\n",
    "geo_seoul = json.load(open('EMD_Seoul.geojson',encoding = \"UTF-8\"))"
   ]
  },
  {
   "cell_type": "code",
   "execution_count": 31,
   "id": "4b7a1de1-3ddf-4680-9731-42c9a9ac0aad",
   "metadata": {},
   "outputs": [
    {
     "data": {
      "text/plain": [
       "{'BASE_DATE': '20200630',\n",
       " 'ADM_DR_CD': '1101053',\n",
       " 'ADM_DR_NM': '사직동',\n",
       " 'OBJECTID': '1'}"
      ]
     },
     "execution_count": 31,
     "metadata": {},
     "output_type": "execute_result"
    }
   ],
   "source": [
    "geo_seoul['features'][0]['properties']"
   ]
  },
  {
   "cell_type": "code",
   "execution_count": 32,
   "id": "ece6bde0-2b86-415b-86a3-d01436484554",
   "metadata": {},
   "outputs": [],
   "source": [
    "foreigner = pd.read_csv('Foreigner_EMD_Seoul.csv')"
   ]
  },
  {
   "cell_type": "code",
   "execution_count": 33,
   "id": "706a6825-c403-44c6-8a24-f78f4153617d",
   "metadata": {},
   "outputs": [
    {
     "data": {
      "text/html": [
       "<div>\n",
       "<style scoped>\n",
       "    .dataframe tbody tr th:only-of-type {\n",
       "        vertical-align: middle;\n",
       "    }\n",
       "\n",
       "    .dataframe tbody tr th {\n",
       "        vertical-align: top;\n",
       "    }\n",
       "\n",
       "    .dataframe thead th {\n",
       "        text-align: right;\n",
       "    }\n",
       "</style>\n",
       "<table border=\"1\" class=\"dataframe\">\n",
       "  <thead>\n",
       "    <tr style=\"text-align: right;\">\n",
       "      <th></th>\n",
       "      <th>code</th>\n",
       "      <th>region</th>\n",
       "      <th>pop</th>\n",
       "    </tr>\n",
       "  </thead>\n",
       "  <tbody>\n",
       "    <tr>\n",
       "      <th>0</th>\n",
       "      <td>1101053</td>\n",
       "      <td>사직동</td>\n",
       "      <td>418.0</td>\n",
       "    </tr>\n",
       "    <tr>\n",
       "      <th>1</th>\n",
       "      <td>1101054</td>\n",
       "      <td>삼청동</td>\n",
       "      <td>112.0</td>\n",
       "    </tr>\n",
       "    <tr>\n",
       "      <th>2</th>\n",
       "      <td>1101055</td>\n",
       "      <td>부암동</td>\n",
       "      <td>458.0</td>\n",
       "    </tr>\n",
       "    <tr>\n",
       "      <th>3</th>\n",
       "      <td>1101056</td>\n",
       "      <td>평창동</td>\n",
       "      <td>429.0</td>\n",
       "    </tr>\n",
       "    <tr>\n",
       "      <th>4</th>\n",
       "      <td>1101057</td>\n",
       "      <td>무악동</td>\n",
       "      <td>102.0</td>\n",
       "    </tr>\n",
       "  </tbody>\n",
       "</table>\n",
       "</div>"
      ],
      "text/plain": [
       "      code region    pop\n",
       "0  1101053    사직동  418.0\n",
       "1  1101054    삼청동  112.0\n",
       "2  1101055    부암동  458.0\n",
       "3  1101056    평창동  429.0\n",
       "4  1101057    무악동  102.0"
      ]
     },
     "execution_count": 33,
     "metadata": {},
     "output_type": "execute_result"
    }
   ],
   "source": [
    "foreigner.head()"
   ]
  },
  {
   "cell_type": "code",
   "execution_count": 36,
   "id": "e7262e82-46cb-4234-8c15-77ce96027de8",
   "metadata": {},
   "outputs": [
    {
     "name": "stdout",
     "output_type": "stream",
     "text": [
      "<class 'pandas.core.frame.DataFrame'>\n",
      "RangeIndex: 3490 entries, 0 to 3489\n",
      "Data columns (total 3 columns):\n",
      " #   Column  Non-Null Count  Dtype  \n",
      "---  ------  --------------  -----  \n",
      " 0   code    3490 non-null   int64  \n",
      " 1   region  3490 non-null   object \n",
      " 2   pop     3486 non-null   float64\n",
      "dtypes: float64(1), int64(1), object(1)\n",
      "memory usage: 81.9+ KB\n"
     ]
    }
   ],
   "source": [
    "foreigner.info()"
   ]
  },
  {
   "cell_type": "code",
   "execution_count": 37,
   "id": "4fc1dd97-f945-4a65-aff1-cd3389ef5c28",
   "metadata": {},
   "outputs": [],
   "source": [
    "foreigner['code'] = foreigner['code'].astype(str)"
   ]
  },
  {
   "cell_type": "code",
   "execution_count": 38,
   "id": "728966b3-3e07-4c71-81e1-4c1644ab8e6a",
   "metadata": {},
   "outputs": [],
   "source": [
    "bins = list(foreigner['pop'].quantile([0,0.2,0.4,0.5,0.6,0.7,0.8,0.9,1]))"
   ]
  },
  {
   "cell_type": "code",
   "execution_count": 39,
   "id": "1a5eef68-2c5e-4ee1-a7f1-603b214cb1f7",
   "metadata": {},
   "outputs": [
    {
     "data": {
      "text/plain": [
       "[7.0, 98.0, 200.0, 280.0, 386.0, 529.5, 766.0, 1355.5, 26896.0]"
      ]
     },
     "execution_count": 39,
     "metadata": {},
     "output_type": "execute_result"
    }
   ],
   "source": [
    "bins"
   ]
  },
  {
   "cell_type": "code",
   "execution_count": 40,
   "id": "1d8a204e-fe95-4a54-bffd-2a0ad238ef87",
   "metadata": {},
   "outputs": [],
   "source": [
    "map_seoul = folium.Map(location = [37.56,127],\n",
    "                      zoom_start = 12,\n",
    "                      tiles = 'cartodbpositron')"
   ]
  },
  {
   "cell_type": "code",
   "execution_count": null,
   "id": "257f382f-8cd1-454f-b992-6b3448855c58",
   "metadata": {},
   "outputs": [],
   "source": [
    "folium.Choropleth( geo_data = geo_soul,\n",
    "                    data = foreigner,\n",
    "                    columns=('code','pop'),\n",
    "                    key_on = 'feature.properties.ADM_DR_CD',\n",
    "                    fill_color='Blues',\n",
    "                    nan_fill_color = 'White',\n",
    "                    fill_opacity = 1,\n",
    "                    line_opacity = 0.5,\n",
    "                    bins = bins ) \\\n",
    "                        .add_to(map_seoul)\n",
    "map_seoul"
   ]
  },
  {
   "cell_type": "code",
   "execution_count": 47,
   "id": "36f82f5e-05ab-43ad-8724-63aabe91bae1",
   "metadata": {},
   "outputs": [],
   "source": [
    "geo_seoul_sig = json.load(open('SIG_Seoul.geojson',encoding = \"UTF-8\"))"
   ]
  },
  {
   "cell_type": "code",
   "execution_count": null,
   "id": "e9041152-db8a-448d-bd0e-f1a9ca4cfe2c",
   "metadata": {},
   "outputs": [],
   "source": [
    "folium.Choropleth(geo_data = geo_seoul_sig,\n",
    "                 fill_opacity = 0,\n",
    "                 line_weight = 4) \\\n",
    "            .add_to(map_seoul)\n",
    "map_seoul"
   ]
  },
  {
   "cell_type": "code",
   "execution_count": 45,
   "id": "c6df346e-5cb2-4660-8dac-f4244add3e6c",
   "metadata": {},
   "outputs": [],
   "source": [
    "map_seoul.save('map_seoul.html')"
   ]
  },
  {
   "cell_type": "code",
   "execution_count": 46,
   "id": "9410ce28-70d3-472e-9333-e3c7ab574d4c",
   "metadata": {},
   "outputs": [
    {
     "data": {
      "text/plain": [
       "True"
      ]
     },
     "execution_count": 46,
     "metadata": {},
     "output_type": "execute_result"
    }
   ],
   "source": [
    "import webbrowser\n",
    "webbrowser.open_new('map_seoul.html')"
   ]
  },
  {
   "cell_type": "code",
   "execution_count": null,
   "id": "1a44556e-8c5a-42f7-9879-428f6eb37af8",
   "metadata": {},
   "outputs": [],
   "source": []
  }
 ],
 "metadata": {
  "kernelspec": {
   "display_name": "Python 3 (ipykernel)",
   "language": "python",
   "name": "python3"
  },
  "language_info": {
   "codemirror_mode": {
    "name": "ipython",
    "version": 3
   },
   "file_extension": ".py",
   "mimetype": "text/x-python",
   "name": "python",
   "nbconvert_exporter": "python",
   "pygments_lexer": "ipython3",
   "version": "3.9.12"
  }
 },
 "nbformat": 4,
 "nbformat_minor": 5
}
