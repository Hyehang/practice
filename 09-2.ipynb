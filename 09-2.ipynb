{
 "cells": [
  {
   "cell_type": "code",
   "execution_count": 1,
   "id": "5b7e58fa-bdc7-401a-8b7a-bc797adf326d",
   "metadata": {},
   "outputs": [],
   "source": [
    "import pandas as pd"
   ]
  },
  {
   "cell_type": "code",
   "execution_count": 2,
   "id": "c66a6cd8-66e2-4e93-ae2e-776109bdb074",
   "metadata": {},
   "outputs": [],
   "source": [
    "import numpy as np"
   ]
  },
  {
   "cell_type": "code",
   "execution_count": 3,
   "id": "2d071c6d-492e-4543-9f7e-50504b532931",
   "metadata": {},
   "outputs": [],
   "source": [
    "import seaborn as sns"
   ]
  },
  {
   "cell_type": "code",
   "execution_count": 4,
   "id": "ae2a22cf-47fd-43da-b7fe-3940a1164c94",
   "metadata": {},
   "outputs": [],
   "source": [
    "raw_welfare = pd.read_spss('Koweps_hpwc14_2019_beta2.sav')"
   ]
  },
  {
   "cell_type": "code",
   "execution_count": 5,
   "id": "de69eea2-261a-4e47-a984-423733e8a0f1",
   "metadata": {},
   "outputs": [],
   "source": [
    "raw_welfare = pd.DataFrame(raw_welfare)"
   ]
  },
  {
   "cell_type": "code",
   "execution_count": 6,
   "id": "bfc57882-0aab-47ab-8d00-411f1559d879",
   "metadata": {},
   "outputs": [],
   "source": [
    "welfare = raw_welfare.copy()"
   ]
  },
  {
   "cell_type": "code",
   "execution_count": 7,
   "id": "9d1f693a-3e6e-4a30-84e1-6c09f9506c51",
   "metadata": {},
   "outputs": [],
   "source": [
    "welfare = welfare.rename(columns = {'h14_g3' : 'sex',\n",
    "                         'h14_g4' : 'birth',\n",
    "                         'h14_g10' : 'marriage_type',\n",
    "                         'h14_g11' : 'religion',\n",
    "                         'p1402_8aq1' : 'income',\n",
    "                         'h14_eco9' : 'code_job',\n",
    "                         'h14_reg7' : 'code_region'})"
   ]
  },
  {
   "cell_type": "markdown",
   "id": "ffbbe5a7-d22e-4341-a2c8-ab9c47c43f9c",
   "metadata": {},
   "source": [
    "### 종교 유무에 따른 이혼율 - 종교가 있으면 이혼을 덜 할까?"
   ]
  },
  {
   "cell_type": "code",
   "execution_count": 8,
   "id": "89066e4e-7ff7-44f5-857f-0ffab58871cd",
   "metadata": {},
   "outputs": [
    {
     "data": {
      "text/plain": [
       "dtype('float64')"
      ]
     },
     "execution_count": 8,
     "metadata": {},
     "output_type": "execute_result"
    }
   ],
   "source": [
    "welfare['religion'].dtypes"
   ]
  },
  {
   "cell_type": "code",
   "execution_count": 9,
   "id": "d75ff674-45d2-44d9-a0b3-a9274a9092d9",
   "metadata": {},
   "outputs": [
    {
     "data": {
      "text/plain": [
       "2.0    7815\n",
       "1.0    6603\n",
       "Name: religion, dtype: int64"
      ]
     },
     "execution_count": 9,
     "metadata": {},
     "output_type": "execute_result"
    }
   ],
   "source": [
    "welfare['religion'].value_counts()"
   ]
  },
  {
   "cell_type": "code",
   "execution_count": 10,
   "id": "91b4bbd7-4b8a-4ddd-a95b-38544e0230a8",
   "metadata": {},
   "outputs": [],
   "source": [
    "welfare['religion'] = np.where(welfare['religion'] == 1 , 'yes' , 'no')"
   ]
  },
  {
   "cell_type": "code",
   "execution_count": 11,
   "id": "8b26a256-e4df-4be8-a9ef-bbdbf475389c",
   "metadata": {},
   "outputs": [
    {
     "data": {
      "text/plain": [
       "no     7815\n",
       "yes    6603\n",
       "Name: religion, dtype: int64"
      ]
     },
     "execution_count": 11,
     "metadata": {},
     "output_type": "execute_result"
    }
   ],
   "source": [
    "welfare['religion'].value_counts()"
   ]
  },
  {
   "cell_type": "code",
   "execution_count": 12,
   "id": "3c2fb49a-90c7-4492-917b-c87f4f908c51",
   "metadata": {},
   "outputs": [
    {
     "data": {
      "text/plain": [
       "<AxesSubplot:xlabel='religion', ylabel='count'>"
      ]
     },
     "execution_count": 12,
     "metadata": {},
     "output_type": "execute_result"
    },
    {
     "data": {
      "image/png": "[encoded data removed]",
      "text/plain": [
       "<Figure size 432x288 with 1 Axes>"
      ]
     },
     "metadata": {
      "needs_background": "light"
     },
     "output_type": "display_data"
    }
   ],
   "source": [
    "sns.countplot(data = welfare, x = 'religion')"
   ]
  },
  {
   "cell_type": "code",
   "execution_count": 13,
   "id": "ebbdfcf9-6c8a-40d9-b711-fea12ebd09be",
   "metadata": {},
   "outputs": [
    {
     "data": {
      "text/plain": [
       "dtype('float64')"
      ]
     },
     "execution_count": 13,
     "metadata": {},
     "output_type": "execute_result"
    }
   ],
   "source": [
    "welfare['marriage_type'].dtypes"
   ]
  },
  {
   "cell_type": "code",
   "execution_count": 14,
   "id": "27f30a54-bad7-4165-9b8f-9dfb8df955f9",
   "metadata": {},
   "outputs": [
    {
     "data": {
      "text/plain": [
       "1.0    7190\n",
       "5.0    2357\n",
       "0.0    2121\n",
       "2.0    1954\n",
       "3.0     689\n",
       "4.0      78\n",
       "6.0      29\n",
       "Name: marriage_type, dtype: int64"
      ]
     },
     "execution_count": 14,
     "metadata": {},
     "output_type": "execute_result"
    }
   ],
   "source": [
    "welfare['marriage_type'].value_counts()"
   ]
  },
  {
   "cell_type": "code",
   "execution_count": 17,
   "id": "ff98cfbc-cbce-406e-9424-824f3d865f93",
   "metadata": {},
   "outputs": [],
   "source": [
    "welfare['marriage'] = np.where(welfare['marriage_type'] == 1 , 'marriage',\n",
    "                              np.where(welfare['marriage_type'] == 3 , 'divorce','etc'))"
   ]
  },
  {
   "cell_type": "code",
   "execution_count": 18,
   "id": "5f83b6c1-1ecb-4076-b997-f79b2ea87250",
   "metadata": {},
   "outputs": [],
   "source": [
    "n_divorce = welfare.groupby('marriage',as_index = False)\\\n",
    "                    .agg(n = ('marriage','count'))"
   ]
  },
  {
   "cell_type": "code",
   "execution_count": 19,
   "id": "74961ab9-4550-4d60-996d-22cf32d516a4",
   "metadata": {},
   "outputs": [
    {
     "data": {
      "text/html": [
       "<div>\n",
       "<style scoped>\n",
       "    .dataframe tbody tr th:only-of-type {\n",
       "        vertical-align: middle;\n",
       "    }\n",
       "\n",
       "    .dataframe tbody tr th {\n",
       "        vertical-align: top;\n",
       "    }\n",
       "\n",
       "    .dataframe thead th {\n",
       "        text-align: right;\n",
       "    }\n",
       "</style>\n",
       "<table border=\"1\" class=\"dataframe\">\n",
       "  <thead>\n",
       "    <tr style=\"text-align: right;\">\n",
       "      <th></th>\n",
       "      <th>marriage</th>\n",
       "      <th>n</th>\n",
       "    </tr>\n",
       "  </thead>\n",
       "  <tbody>\n",
       "    <tr>\n",
       "      <th>0</th>\n",
       "      <td>divorce</td>\n",
       "      <td>689</td>\n",
       "    </tr>\n",
       "    <tr>\n",
       "      <th>1</th>\n",
       "      <td>etc</td>\n",
       "      <td>6539</td>\n",
       "    </tr>\n",
       "    <tr>\n",
       "      <th>2</th>\n",
       "      <td>marriage</td>\n",
       "      <td>7190</td>\n",
       "    </tr>\n",
       "  </tbody>\n",
       "</table>\n",
       "</div>"
      ],
      "text/plain": [
       "   marriage     n\n",
       "0   divorce   689\n",
       "1       etc  6539\n",
       "2  marriage  7190"
      ]
     },
     "execution_count": 19,
     "metadata": {},
     "output_type": "execute_result"
    }
   ],
   "source": [
    "n_divorce"
   ]
  },
  {
   "cell_type": "code",
   "execution_count": 20,
   "id": "a1c25b5a-705b-4d07-878e-621a260ed6b4",
   "metadata": {},
   "outputs": [
    {
     "data": {
      "text/plain": [
       "<AxesSubplot:xlabel='marriage', ylabel='n'>"
      ]
     },
     "execution_count": 20,
     "metadata": {},
     "output_type": "execute_result"
    },
    {
     "data": {
      "image/png": "[encoded data removed]",
      "text/plain": [
       "<Figure size 432x288 with 1 Axes>"
      ]
     },
     "metadata": {
      "needs_background": "light"
     },
     "output_type": "display_data"
    }
   ],
   "source": [
    "sns.barplot(data = n_divorce, x = 'marriage', y = 'n')"
   ]
  },
  {
   "cell_type": "code",
   "execution_count": 25,
   "id": "f37f2b4a-d288-4b72-a138-e1e2240bff45",
   "metadata": {},
   "outputs": [],
   "source": [
    "red_div = welfare.query('marriage != \"etc\"') \\\n",
    "                .groupby('religion',as_index = False) \\\n",
    "                ['marriage'] \\\n",
    "                .value_counts(normalize = True)"
   ]
  },
  {
   "cell_type": "code",
   "execution_count": 27,
   "id": "31560187-f9c6-42f3-8354-8322c596897d",
   "metadata": {},
   "outputs": [
    {
     "data": {
      "text/html": [
       "<div>\n",
       "<style scoped>\n",
       "    .dataframe tbody tr th:only-of-type {\n",
       "        vertical-align: middle;\n",
       "    }\n",
       "\n",
       "    .dataframe tbody tr th {\n",
       "        vertical-align: top;\n",
       "    }\n",
       "\n",
       "    .dataframe thead th {\n",
       "        text-align: right;\n",
       "    }\n",
       "</style>\n",
       "<table border=\"1\" class=\"dataframe\">\n",
       "  <thead>\n",
       "    <tr style=\"text-align: right;\">\n",
       "      <th></th>\n",
       "      <th>religion</th>\n",
       "      <th>marriage</th>\n",
       "      <th>proportion</th>\n",
       "    </tr>\n",
       "  </thead>\n",
       "  <tbody>\n",
       "    <tr>\n",
       "      <th>0</th>\n",
       "      <td>no</td>\n",
       "      <td>marriage</td>\n",
       "      <td>0.905045</td>\n",
       "    </tr>\n",
       "    <tr>\n",
       "      <th>1</th>\n",
       "      <td>no</td>\n",
       "      <td>divorce</td>\n",
       "      <td>0.094955</td>\n",
       "    </tr>\n",
       "    <tr>\n",
       "      <th>2</th>\n",
       "      <td>yes</td>\n",
       "      <td>marriage</td>\n",
       "      <td>0.920469</td>\n",
       "    </tr>\n",
       "    <tr>\n",
       "      <th>3</th>\n",
       "      <td>yes</td>\n",
       "      <td>divorce</td>\n",
       "      <td>0.079531</td>\n",
       "    </tr>\n",
       "  </tbody>\n",
       "</table>\n",
       "</div>"
      ],
      "text/plain": [
       "  religion  marriage  proportion\n",
       "0       no  marriage    0.905045\n",
       "1       no   divorce    0.094955\n",
       "2      yes  marriage    0.920469\n",
       "3      yes   divorce    0.079531"
      ]
     },
     "execution_count": 27,
     "metadata": {},
     "output_type": "execute_result"
    }
   ],
   "source": [
    "red_div"
   ]
  },
  {
   "cell_type": "code",
   "execution_count": 28,
   "id": "432cbc6d-a9fc-475c-bebc-204589fc5afa",
   "metadata": {},
   "outputs": [],
   "source": [
    "red_div = red_div.query('marriage == \"divorce\"') \\\n",
    "                .assign(proportion = red_div['proportion']*100) \\\n",
    "                .round(1)"
   ]
  },
  {
   "cell_type": "code",
   "execution_count": 29,
   "id": "55db7485-67de-4fea-886b-583f388a6691",
   "metadata": {},
   "outputs": [
    {
     "data": {
      "text/html": [
       "<div>\n",
       "<style scoped>\n",
       "    .dataframe tbody tr th:only-of-type {\n",
       "        vertical-align: middle;\n",
       "    }\n",
       "\n",
       "    .dataframe tbody tr th {\n",
       "        vertical-align: top;\n",
       "    }\n",
       "\n",
       "    .dataframe thead th {\n",
       "        text-align: right;\n",
       "    }\n",
       "</style>\n",
       "<table border=\"1\" class=\"dataframe\">\n",
       "  <thead>\n",
       "    <tr style=\"text-align: right;\">\n",
       "      <th></th>\n",
       "      <th>religion</th>\n",
       "      <th>marriage</th>\n",
       "      <th>proportion</th>\n",
       "    </tr>\n",
       "  </thead>\n",
       "  <tbody>\n",
       "    <tr>\n",
       "      <th>1</th>\n",
       "      <td>no</td>\n",
       "      <td>divorce</td>\n",
       "      <td>9.5</td>\n",
       "    </tr>\n",
       "    <tr>\n",
       "      <th>3</th>\n",
       "      <td>yes</td>\n",
       "      <td>divorce</td>\n",
       "      <td>8.0</td>\n",
       "    </tr>\n",
       "  </tbody>\n",
       "</table>\n",
       "</div>"
      ],
      "text/plain": [
       "  religion marriage  proportion\n",
       "1       no  divorce         9.5\n",
       "3      yes  divorce         8.0"
      ]
     },
     "execution_count": 29,
     "metadata": {},
     "output_type": "execute_result"
    }
   ],
   "source": [
    "red_div"
   ]
  },
  {
   "cell_type": "code",
   "execution_count": 30,
   "id": "b0c6ea05-b800-462c-b5a1-cec12a1e31b7",
   "metadata": {},
   "outputs": [
    {
     "data": {
      "text/plain": [
       "<AxesSubplot:xlabel='religion', ylabel='proportion'>"
      ]
     },
     "execution_count": 30,
     "metadata": {},
     "output_type": "execute_result"
    },
    {
     "data": {
      "image/png": "[encoded data removed]",
      "text/plain": [
       "<Figure size 432x288 with 1 Axes>"
      ]
     },
     "metadata": {
      "needs_background": "light"
     },
     "output_type": "display_data"
    }
   ],
   "source": [
    "sns.barplot(data = red_div, x= 'religion', y= 'proportion')"
   ]
  },
  {
   "cell_type": "code",
   "execution_count": 31,
   "id": "a9fd9610-eb96-4b8c-8fdc-3a84e9c1e1a4",
   "metadata": {},
   "outputs": [
    {
     "data": {
      "text/plain": [
       "count    14418.000000\n",
       "mean        50.719795\n",
       "std         24.402250\n",
       "min          2.000000\n",
       "25%         30.000000\n",
       "50%         52.000000\n",
       "75%         72.000000\n",
       "max        113.000000\n",
       "Name: age, dtype: float64"
      ]
     },
     "execution_count": 31,
     "metadata": {},
     "output_type": "execute_result"
    }
   ],
   "source": [
    "welfare = welfare.assign(age = 2019 - welfare['birth']+1)\n",
    "welfare['age'].describe()"
   ]
  },
  {
   "cell_type": "code",
   "execution_count": 32,
   "id": "bc351fd1-6772-4995-b22e-3430f845f236",
   "metadata": {},
   "outputs": [],
   "source": [
    "welfare = welfare.assign(ageg = np.where(welfare['age'] < 30, 'young',np.where(welfare['age'] < 60 , 'middle','old')))"
   ]
  },
  {
   "cell_type": "code",
   "execution_count": 34,
   "id": "6959e079-c05e-4031-bcce-c9b2177f5819",
   "metadata": {},
   "outputs": [],
   "source": [
    "age_div = welfare.query('marriage != \"etc\"') \\\n",
    "                .groupby('ageg',as_index= False) \\\n",
    "                ['marriage'] \\\n",
    "                .value_counts(normalize = True)"
   ]
  },
  {
   "cell_type": "code",
   "execution_count": 36,
   "id": "7d8235c7-b14c-471c-9b0a-2b120f7858fd",
   "metadata": {},
   "outputs": [
    {
     "data": {
      "text/html": [
       "<div>\n",
       "<style scoped>\n",
       "    .dataframe tbody tr th:only-of-type {\n",
       "        vertical-align: middle;\n",
       "    }\n",
       "\n",
       "    .dataframe tbody tr th {\n",
       "        vertical-align: top;\n",
       "    }\n",
       "\n",
       "    .dataframe thead th {\n",
       "        text-align: right;\n",
       "    }\n",
       "</style>\n",
       "<table border=\"1\" class=\"dataframe\">\n",
       "  <thead>\n",
       "    <tr style=\"text-align: right;\">\n",
       "      <th></th>\n",
       "      <th>ageg</th>\n",
       "      <th>marriage</th>\n",
       "      <th>proportion</th>\n",
       "    </tr>\n",
       "  </thead>\n",
       "  <tbody>\n",
       "    <tr>\n",
       "      <th>0</th>\n",
       "      <td>middle</td>\n",
       "      <td>marriage</td>\n",
       "      <td>0.910302</td>\n",
       "    </tr>\n",
       "    <tr>\n",
       "      <th>1</th>\n",
       "      <td>middle</td>\n",
       "      <td>divorce</td>\n",
       "      <td>0.089698</td>\n",
       "    </tr>\n",
       "    <tr>\n",
       "      <th>2</th>\n",
       "      <td>old</td>\n",
       "      <td>marriage</td>\n",
       "      <td>0.914220</td>\n",
       "    </tr>\n",
       "    <tr>\n",
       "      <th>3</th>\n",
       "      <td>old</td>\n",
       "      <td>divorce</td>\n",
       "      <td>0.085780</td>\n",
       "    </tr>\n",
       "    <tr>\n",
       "      <th>4</th>\n",
       "      <td>young</td>\n",
       "      <td>marriage</td>\n",
       "      <td>0.950000</td>\n",
       "    </tr>\n",
       "    <tr>\n",
       "      <th>5</th>\n",
       "      <td>young</td>\n",
       "      <td>divorce</td>\n",
       "      <td>0.050000</td>\n",
       "    </tr>\n",
       "  </tbody>\n",
       "</table>\n",
       "</div>"
      ],
      "text/plain": [
       "     ageg  marriage  proportion\n",
       "0  middle  marriage    0.910302\n",
       "1  middle   divorce    0.089698\n",
       "2     old  marriage    0.914220\n",
       "3     old   divorce    0.085780\n",
       "4   young  marriage    0.950000\n",
       "5   young   divorce    0.050000"
      ]
     },
     "execution_count": 36,
     "metadata": {},
     "output_type": "execute_result"
    }
   ],
   "source": [
    "age_div"
   ]
  },
  {
   "cell_type": "code",
   "execution_count": 37,
   "id": "f97ce801-7167-4129-bee3-fd562cfa58f2",
   "metadata": {},
   "outputs": [],
   "source": [
    "age_div = age_div.query('marriage == \"divorce\"') \\\n",
    "                .assign(proportion = age_div['proportion']*100) \\\n",
    "                .round(1)"
   ]
  },
  {
   "cell_type": "code",
   "execution_count": 38,
   "id": "58cfa6d8-a222-4a73-b989-6cb050cc512f",
   "metadata": {},
   "outputs": [
    {
     "data": {
      "text/html": [
       "<div>\n",
       "<style scoped>\n",
       "    .dataframe tbody tr th:only-of-type {\n",
       "        vertical-align: middle;\n",
       "    }\n",
       "\n",
       "    .dataframe tbody tr th {\n",
       "        vertical-align: top;\n",
       "    }\n",
       "\n",
       "    .dataframe thead th {\n",
       "        text-align: right;\n",
       "    }\n",
       "</style>\n",
       "<table border=\"1\" class=\"dataframe\">\n",
       "  <thead>\n",
       "    <tr style=\"text-align: right;\">\n",
       "      <th></th>\n",
       "      <th>ageg</th>\n",
       "      <th>marriage</th>\n",
       "      <th>proportion</th>\n",
       "    </tr>\n",
       "  </thead>\n",
       "  <tbody>\n",
       "    <tr>\n",
       "      <th>1</th>\n",
       "      <td>middle</td>\n",
       "      <td>divorce</td>\n",
       "      <td>9.0</td>\n",
       "    </tr>\n",
       "    <tr>\n",
       "      <th>3</th>\n",
       "      <td>old</td>\n",
       "      <td>divorce</td>\n",
       "      <td>8.6</td>\n",
       "    </tr>\n",
       "    <tr>\n",
       "      <th>5</th>\n",
       "      <td>young</td>\n",
       "      <td>divorce</td>\n",
       "      <td>5.0</td>\n",
       "    </tr>\n",
       "  </tbody>\n",
       "</table>\n",
       "</div>"
      ],
      "text/plain": [
       "     ageg marriage  proportion\n",
       "1  middle  divorce         9.0\n",
       "3     old  divorce         8.6\n",
       "5   young  divorce         5.0"
      ]
     },
     "execution_count": 38,
     "metadata": {},
     "output_type": "execute_result"
    }
   ],
   "source": [
    "age_div"
   ]
  },
  {
   "cell_type": "code",
   "execution_count": 39,
   "id": "289a94a8-b30f-4ef0-9964-a0ae65c3ba9e",
   "metadata": {},
   "outputs": [
    {
     "data": {
      "text/plain": [
       "<AxesSubplot:xlabel='ageg', ylabel='proportion'>"
      ]
     },
     "execution_count": 39,
     "metadata": {},
     "output_type": "execute_result"
    },
    {
     "data": {
      "image/png": "[encoded data removed]",
      "text/plain": [
       "<Figure size 432x288 with 1 Axes>"
      ]
     },
     "metadata": {
      "needs_background": "light"
     },
     "output_type": "display_data"
    }
   ],
   "source": [
    "sns.barplot(data = age_div , x = 'ageg', y='proportion')"
   ]
  },
  {
   "cell_type": "code",
   "execution_count": 40,
   "id": "dcf2e137-eac4-4615-b43a-efe38d43fd5c",
   "metadata": {},
   "outputs": [
    {
     "data": {
      "text/html": [
       "<div>\n",
       "<style scoped>\n",
       "    .dataframe tbody tr th:only-of-type {\n",
       "        vertical-align: middle;\n",
       "    }\n",
       "\n",
       "    .dataframe tbody tr th {\n",
       "        vertical-align: top;\n",
       "    }\n",
       "\n",
       "    .dataframe thead th {\n",
       "        text-align: right;\n",
       "    }\n",
       "</style>\n",
       "<table border=\"1\" class=\"dataframe\">\n",
       "  <thead>\n",
       "    <tr style=\"text-align: right;\">\n",
       "      <th></th>\n",
       "      <th>ageg</th>\n",
       "      <th>religion</th>\n",
       "      <th>marriage</th>\n",
       "      <th>proportion</th>\n",
       "    </tr>\n",
       "  </thead>\n",
       "  <tbody>\n",
       "    <tr>\n",
       "      <th>0</th>\n",
       "      <td>middle</td>\n",
       "      <td>no</td>\n",
       "      <td>marriage</td>\n",
       "      <td>0.904953</td>\n",
       "    </tr>\n",
       "    <tr>\n",
       "      <th>1</th>\n",
       "      <td>middle</td>\n",
       "      <td>no</td>\n",
       "      <td>divorce</td>\n",
       "      <td>0.095047</td>\n",
       "    </tr>\n",
       "    <tr>\n",
       "      <th>2</th>\n",
       "      <td>middle</td>\n",
       "      <td>yes</td>\n",
       "      <td>marriage</td>\n",
       "      <td>0.917520</td>\n",
       "    </tr>\n",
       "    <tr>\n",
       "      <th>3</th>\n",
       "      <td>middle</td>\n",
       "      <td>yes</td>\n",
       "      <td>divorce</td>\n",
       "      <td>0.082480</td>\n",
       "    </tr>\n",
       "    <tr>\n",
       "      <th>4</th>\n",
       "      <td>old</td>\n",
       "      <td>no</td>\n",
       "      <td>marriage</td>\n",
       "      <td>0.904382</td>\n",
       "    </tr>\n",
       "    <tr>\n",
       "      <th>5</th>\n",
       "      <td>old</td>\n",
       "      <td>no</td>\n",
       "      <td>divorce</td>\n",
       "      <td>0.095618</td>\n",
       "    </tr>\n",
       "    <tr>\n",
       "      <th>6</th>\n",
       "      <td>old</td>\n",
       "      <td>yes</td>\n",
       "      <td>marriage</td>\n",
       "      <td>0.922222</td>\n",
       "    </tr>\n",
       "    <tr>\n",
       "      <th>7</th>\n",
       "      <td>old</td>\n",
       "      <td>yes</td>\n",
       "      <td>divorce</td>\n",
       "      <td>0.077778</td>\n",
       "    </tr>\n",
       "  </tbody>\n",
       "</table>\n",
       "</div>"
      ],
      "text/plain": [
       "     ageg religion  marriage  proportion\n",
       "0  middle       no  marriage    0.904953\n",
       "1  middle       no   divorce    0.095047\n",
       "2  middle      yes  marriage    0.917520\n",
       "3  middle      yes   divorce    0.082480\n",
       "4     old       no  marriage    0.904382\n",
       "5     old       no   divorce    0.095618\n",
       "6     old      yes  marriage    0.922222\n",
       "7     old      yes   divorce    0.077778"
      ]
     },
     "execution_count": 40,
     "metadata": {},
     "output_type": "execute_result"
    }
   ],
   "source": [
    "age_rel_div = welfare.query('marriage != \"etc\" & ageg != \"young\"') \\\n",
    "                    .groupby(['ageg','religion'],as_index = False) \\\n",
    "                    ['marriage'] \\\n",
    "                    .value_counts(normalize = True)\n",
    "age_rel_div"
   ]
  },
  {
   "cell_type": "code",
   "execution_count": 41,
   "id": "56539a0e-6a1e-426b-a403-c572a2c4453c",
   "metadata": {},
   "outputs": [
    {
     "data": {
      "text/html": [
       "<div>\n",
       "<style scoped>\n",
       "    .dataframe tbody tr th:only-of-type {\n",
       "        vertical-align: middle;\n",
       "    }\n",
       "\n",
       "    .dataframe tbody tr th {\n",
       "        vertical-align: top;\n",
       "    }\n",
       "\n",
       "    .dataframe thead th {\n",
       "        text-align: right;\n",
       "    }\n",
       "</style>\n",
       "<table border=\"1\" class=\"dataframe\">\n",
       "  <thead>\n",
       "    <tr style=\"text-align: right;\">\n",
       "      <th></th>\n",
       "      <th>ageg</th>\n",
       "      <th>religion</th>\n",
       "      <th>marriage</th>\n",
       "      <th>proportion</th>\n",
       "    </tr>\n",
       "  </thead>\n",
       "  <tbody>\n",
       "    <tr>\n",
       "      <th>1</th>\n",
       "      <td>middle</td>\n",
       "      <td>no</td>\n",
       "      <td>divorce</td>\n",
       "      <td>9.5</td>\n",
       "    </tr>\n",
       "    <tr>\n",
       "      <th>3</th>\n",
       "      <td>middle</td>\n",
       "      <td>yes</td>\n",
       "      <td>divorce</td>\n",
       "      <td>8.2</td>\n",
       "    </tr>\n",
       "    <tr>\n",
       "      <th>5</th>\n",
       "      <td>old</td>\n",
       "      <td>no</td>\n",
       "      <td>divorce</td>\n",
       "      <td>9.6</td>\n",
       "    </tr>\n",
       "    <tr>\n",
       "      <th>7</th>\n",
       "      <td>old</td>\n",
       "      <td>yes</td>\n",
       "      <td>divorce</td>\n",
       "      <td>7.8</td>\n",
       "    </tr>\n",
       "  </tbody>\n",
       "</table>\n",
       "</div>"
      ],
      "text/plain": [
       "     ageg religion marriage  proportion\n",
       "1  middle       no  divorce         9.5\n",
       "3  middle      yes  divorce         8.2\n",
       "5     old       no  divorce         9.6\n",
       "7     old      yes  divorce         7.8"
      ]
     },
     "execution_count": 41,
     "metadata": {},
     "output_type": "execute_result"
    }
   ],
   "source": [
    "age_rel_div = \\\n",
    "        age_rel_div.query('marriage == \"divorce\"') \\\n",
    "                    .assign(proportion = age_rel_div['proportion']*100) \\\n",
    "                    .round(1)\n",
    "age_rel_div"
   ]
  },
  {
   "cell_type": "code",
   "execution_count": 42,
   "id": "d17722e4-330e-4b81-b067-73425ead5253",
   "metadata": {},
   "outputs": [
    {
     "data": {
      "text/plain": [
       "<AxesSubplot:xlabel='ageg', ylabel='proportion'>"
      ]
     },
     "execution_count": 42,
     "metadata": {},
     "output_type": "execute_result"
    },
    {
     "data": {
      "image/png": "[encoded data removed]",
      "text/plain": [
       "<Figure size 432x288 with 1 Axes>"
      ]
     },
     "metadata": {
      "needs_background": "light"
     },
     "output_type": "display_data"
    }
   ],
   "source": [
    "sns.barplot(data = age_rel_div , x = 'ageg' , y = 'proportion', hue = 'religion')"
   ]
  },
  {
   "cell_type": "markdown",
   "id": "72327da1-7bf4-4d04-867d-9e3e51281bae",
   "metadata": {},
   "source": [
    "### 지역별 연령대 비율 - 어느 지역에 노년층이 많을까?"
   ]
  },
  {
   "cell_type": "code",
   "execution_count": 43,
   "id": "9fd1edfb-b896-41df-8f1e-7ff601de6d2c",
   "metadata": {},
   "outputs": [
    {
     "data": {
      "text/plain": [
       "dtype('float64')"
      ]
     },
     "execution_count": 43,
     "metadata": {},
     "output_type": "execute_result"
    }
   ],
   "source": [
    "welfare['code_region'].dtypes"
   ]
  },
  {
   "cell_type": "code",
   "execution_count": 44,
   "id": "bab54dad-68bd-4f8d-882b-64bee50ddbc5",
   "metadata": {},
   "outputs": [
    {
     "data": {
      "text/plain": [
       "2.0    3246\n",
       "7.0    2466\n",
       "3.0    2448\n",
       "1.0    2002\n",
       "4.0    1728\n",
       "5.0    1391\n",
       "6.0    1137\n",
       "Name: code_region, dtype: int64"
      ]
     },
     "execution_count": 44,
     "metadata": {},
     "output_type": "execute_result"
    }
   ],
   "source": [
    "welfare['code_region'].value_counts()"
   ]
  },
  {
   "cell_type": "code",
   "execution_count": 48,
   "id": "e7781e24-0c87-44ae-adfd-8bd558e21d8d",
   "metadata": {},
   "outputs": [],
   "source": [
    "list_region = pd.DataFrame({'code_region' : [1,2,3,4,5,6,7],\n",
    "                            'region' : ['서울',\n",
    "                                       '수도권(인천/경기)',\n",
    "                                       '부산/경남/울산',\n",
    "                                       '대구/경북',\n",
    "                                       '대전/충남',\n",
    "                                       '강원/충북',\n",
    "                                       '광주/전남/전북/제주도']})"
   ]
  },
  {
   "cell_type": "code",
   "execution_count": 49,
   "id": "e567a8d1-f059-4d6f-97cc-4b7f7c06a8b8",
   "metadata": {},
   "outputs": [],
   "source": [
    "welfare = welfare.merge(list_region, how = 'left', on = 'code_region')"
   ]
  },
  {
   "cell_type": "code",
   "execution_count": 50,
   "id": "d06cade1-9173-45f5-95a4-4dcde7d4a69d",
   "metadata": {},
   "outputs": [
    {
     "data": {
      "text/html": [
       "<div>\n",
       "<style scoped>\n",
       "    .dataframe tbody tr th:only-of-type {\n",
       "        vertical-align: middle;\n",
       "    }\n",
       "\n",
       "    .dataframe tbody tr th {\n",
       "        vertical-align: top;\n",
       "    }\n",
       "\n",
       "    .dataframe thead th {\n",
       "        text-align: right;\n",
       "    }\n",
       "</style>\n",
       "<table border=\"1\" class=\"dataframe\">\n",
       "  <thead>\n",
       "    <tr style=\"text-align: right;\">\n",
       "      <th></th>\n",
       "      <th>code_region</th>\n",
       "      <th>region</th>\n",
       "    </tr>\n",
       "  </thead>\n",
       "  <tbody>\n",
       "    <tr>\n",
       "      <th>0</th>\n",
       "      <td>1.0</td>\n",
       "      <td>서울</td>\n",
       "    </tr>\n",
       "    <tr>\n",
       "      <th>1</th>\n",
       "      <td>1.0</td>\n",
       "      <td>서울</td>\n",
       "    </tr>\n",
       "    <tr>\n",
       "      <th>2</th>\n",
       "      <td>1.0</td>\n",
       "      <td>서울</td>\n",
       "    </tr>\n",
       "    <tr>\n",
       "      <th>3</th>\n",
       "      <td>1.0</td>\n",
       "      <td>서울</td>\n",
       "    </tr>\n",
       "    <tr>\n",
       "      <th>4</th>\n",
       "      <td>1.0</td>\n",
       "      <td>서울</td>\n",
       "    </tr>\n",
       "  </tbody>\n",
       "</table>\n",
       "</div>"
      ],
      "text/plain": [
       "   code_region region\n",
       "0          1.0     서울\n",
       "1          1.0     서울\n",
       "2          1.0     서울\n",
       "3          1.0     서울\n",
       "4          1.0     서울"
      ]
     },
     "execution_count": 50,
     "metadata": {},
     "output_type": "execute_result"
    }
   ],
   "source": [
    "welfare[['code_region','region']].head()"
   ]
  },
  {
   "cell_type": "code",
   "execution_count": 53,
   "id": "c9db360a-420d-42cf-a4df-538582ca22a3",
   "metadata": {},
   "outputs": [],
   "source": [
    "region_ageg = welfare.groupby('region',as_index = False) \\\n",
    "                    ['ageg'] \\\n",
    "                    .value_counts(normalize = True)"
   ]
  },
  {
   "cell_type": "code",
   "execution_count": 55,
   "id": "55886c42-318f-40bb-9979-bf4d9f1aad9f",
   "metadata": {},
   "outputs": [],
   "source": [
    "region_ageg = region_ageg.assign(proportion = region_ageg['proportion']*100).round(1)"
   ]
  },
  {
   "cell_type": "code",
   "execution_count": 56,
   "id": "412420db-4fff-4e81-b89f-343a71b54eeb",
   "metadata": {},
   "outputs": [
    {
     "data": {
      "text/html": [
       "<div>\n",
       "<style scoped>\n",
       "    .dataframe tbody tr th:only-of-type {\n",
       "        vertical-align: middle;\n",
       "    }\n",
       "\n",
       "    .dataframe tbody tr th {\n",
       "        vertical-align: top;\n",
       "    }\n",
       "\n",
       "    .dataframe thead th {\n",
       "        text-align: right;\n",
       "    }\n",
       "</style>\n",
       "<table border=\"1\" class=\"dataframe\">\n",
       "  <thead>\n",
       "    <tr style=\"text-align: right;\">\n",
       "      <th></th>\n",
       "      <th>region</th>\n",
       "      <th>ageg</th>\n",
       "      <th>proportion</th>\n",
       "    </tr>\n",
       "  </thead>\n",
       "  <tbody>\n",
       "    <tr>\n",
       "      <th>0</th>\n",
       "      <td>강원/충북</td>\n",
       "      <td>old</td>\n",
       "      <td>45.9</td>\n",
       "    </tr>\n",
       "    <tr>\n",
       "      <th>1</th>\n",
       "      <td>강원/충북</td>\n",
       "      <td>middle</td>\n",
       "      <td>30.9</td>\n",
       "    </tr>\n",
       "    <tr>\n",
       "      <th>2</th>\n",
       "      <td>강원/충북</td>\n",
       "      <td>young</td>\n",
       "      <td>23.2</td>\n",
       "    </tr>\n",
       "    <tr>\n",
       "      <th>3</th>\n",
       "      <td>광주/전남/전북/제주도</td>\n",
       "      <td>old</td>\n",
       "      <td>44.9</td>\n",
       "    </tr>\n",
       "    <tr>\n",
       "      <th>4</th>\n",
       "      <td>광주/전남/전북/제주도</td>\n",
       "      <td>middle</td>\n",
       "      <td>31.8</td>\n",
       "    </tr>\n",
       "    <tr>\n",
       "      <th>5</th>\n",
       "      <td>광주/전남/전북/제주도</td>\n",
       "      <td>young</td>\n",
       "      <td>23.3</td>\n",
       "    </tr>\n",
       "    <tr>\n",
       "      <th>6</th>\n",
       "      <td>대구/경북</td>\n",
       "      <td>old</td>\n",
       "      <td>50.4</td>\n",
       "    </tr>\n",
       "    <tr>\n",
       "      <th>7</th>\n",
       "      <td>대구/경북</td>\n",
       "      <td>middle</td>\n",
       "      <td>29.6</td>\n",
       "    </tr>\n",
       "    <tr>\n",
       "      <th>8</th>\n",
       "      <td>대구/경북</td>\n",
       "      <td>young</td>\n",
       "      <td>20.0</td>\n",
       "    </tr>\n",
       "    <tr>\n",
       "      <th>9</th>\n",
       "      <td>대전/충남</td>\n",
       "      <td>old</td>\n",
       "      <td>41.3</td>\n",
       "    </tr>\n",
       "    <tr>\n",
       "      <th>10</th>\n",
       "      <td>대전/충남</td>\n",
       "      <td>middle</td>\n",
       "      <td>33.6</td>\n",
       "    </tr>\n",
       "    <tr>\n",
       "      <th>11</th>\n",
       "      <td>대전/충남</td>\n",
       "      <td>young</td>\n",
       "      <td>25.0</td>\n",
       "    </tr>\n",
       "    <tr>\n",
       "      <th>12</th>\n",
       "      <td>부산/경남/울산</td>\n",
       "      <td>old</td>\n",
       "      <td>43.8</td>\n",
       "    </tr>\n",
       "    <tr>\n",
       "      <th>13</th>\n",
       "      <td>부산/경남/울산</td>\n",
       "      <td>middle</td>\n",
       "      <td>33.4</td>\n",
       "    </tr>\n",
       "    <tr>\n",
       "      <th>14</th>\n",
       "      <td>부산/경남/울산</td>\n",
       "      <td>young</td>\n",
       "      <td>22.9</td>\n",
       "    </tr>\n",
       "    <tr>\n",
       "      <th>15</th>\n",
       "      <td>서울</td>\n",
       "      <td>middle</td>\n",
       "      <td>38.5</td>\n",
       "    </tr>\n",
       "    <tr>\n",
       "      <th>16</th>\n",
       "      <td>서울</td>\n",
       "      <td>old</td>\n",
       "      <td>37.6</td>\n",
       "    </tr>\n",
       "    <tr>\n",
       "      <th>17</th>\n",
       "      <td>서울</td>\n",
       "      <td>young</td>\n",
       "      <td>23.9</td>\n",
       "    </tr>\n",
       "    <tr>\n",
       "      <th>18</th>\n",
       "      <td>수도권(인천/경기)</td>\n",
       "      <td>middle</td>\n",
       "      <td>38.8</td>\n",
       "    </tr>\n",
       "    <tr>\n",
       "      <th>19</th>\n",
       "      <td>수도권(인천/경기)</td>\n",
       "      <td>old</td>\n",
       "      <td>32.5</td>\n",
       "    </tr>\n",
       "    <tr>\n",
       "      <th>20</th>\n",
       "      <td>수도권(인천/경기)</td>\n",
       "      <td>young</td>\n",
       "      <td>28.7</td>\n",
       "    </tr>\n",
       "  </tbody>\n",
       "</table>\n",
       "</div>"
      ],
      "text/plain": [
       "          region    ageg  proportion\n",
       "0          강원/충북     old        45.9\n",
       "1          강원/충북  middle        30.9\n",
       "2          강원/충북   young        23.2\n",
       "3   광주/전남/전북/제주도     old        44.9\n",
       "4   광주/전남/전북/제주도  middle        31.8\n",
       "5   광주/전남/전북/제주도   young        23.3\n",
       "6          대구/경북     old        50.4\n",
       "7          대구/경북  middle        29.6\n",
       "8          대구/경북   young        20.0\n",
       "9          대전/충남     old        41.3\n",
       "10         대전/충남  middle        33.6\n",
       "11         대전/충남   young        25.0\n",
       "12      부산/경남/울산     old        43.8\n",
       "13      부산/경남/울산  middle        33.4\n",
       "14      부산/경남/울산   young        22.9\n",
       "15            서울  middle        38.5\n",
       "16            서울     old        37.6\n",
       "17            서울   young        23.9\n",
       "18    수도권(인천/경기)  middle        38.8\n",
       "19    수도권(인천/경기)     old        32.5\n",
       "20    수도권(인천/경기)   young        28.7"
      ]
     },
     "execution_count": 56,
     "metadata": {},
     "output_type": "execute_result"
    }
   ],
   "source": [
    "region_ageg"
   ]
  },
  {
   "cell_type": "code",
   "execution_count": 58,
   "id": "caea4c68-55fd-4f70-80b1-3ea85b966f8b",
   "metadata": {},
   "outputs": [],
   "source": [
    "import matplotlib.pyplot as plt\n",
    "plt.rcParams.update({'font.family' : 'Malgun Gothic'})  ##한국어로 그래프"
   ]
  },
  {
   "cell_type": "code",
   "execution_count": 59,
   "id": "b2cf435b-7474-4e49-b5e3-cf67f7da26a8",
   "metadata": {},
   "outputs": [
    {
     "data": {
      "text/plain": [
       "<AxesSubplot:xlabel='proportion', ylabel='region'>"
      ]
     },
     "execution_count": 59,
     "metadata": {},
     "output_type": "execute_result"
    },
    {
     "data": {
      "image/png": "[encoded data removed]",
      "text/plain": [
       "<Figure size 432x288 with 1 Axes>"
      ]
     },
     "metadata": {
      "needs_background": "light"
     },
     "output_type": "display_data"
    }
   ],
   "source": [
    "sns.barplot(data = region_ageg , y = 'region', x = 'proportion', hue = 'ageg')"
   ]
  },
  {
   "cell_type": "code",
   "execution_count": 60,
   "id": "21024758-13df-44b6-a3ac-603f68db342f",
   "metadata": {},
   "outputs": [],
   "source": [
    "pivot_df = region_ageg[['region','ageg','proportion']].pivot(index = 'region',\n",
    "                                                            columns = 'ageg',\n",
    "                                                            values = 'proportion')"
   ]
  },
  {
   "cell_type": "code",
   "execution_count": 61,
   "id": "97906e50-dc9f-49e0-8a5e-fe8d42019144",
   "metadata": {},
   "outputs": [
    {
     "data": {
      "text/html": [
       "<div>\n",
       "<style scoped>\n",
       "    .dataframe tbody tr th:only-of-type {\n",
       "        vertical-align: middle;\n",
       "    }\n",
       "\n",
       "    .dataframe tbody tr th {\n",
       "        vertical-align: top;\n",
       "    }\n",
       "\n",
       "    .dataframe thead th {\n",
       "        text-align: right;\n",
       "    }\n",
       "</style>\n",
       "<table border=\"1\" class=\"dataframe\">\n",
       "  <thead>\n",
       "    <tr style=\"text-align: right;\">\n",
       "      <th>ageg</th>\n",
       "      <th>middle</th>\n",
       "      <th>old</th>\n",
       "      <th>young</th>\n",
       "    </tr>\n",
       "    <tr>\n",
       "      <th>region</th>\n",
       "      <th></th>\n",
       "      <th></th>\n",
       "      <th></th>\n",
       "    </tr>\n",
       "  </thead>\n",
       "  <tbody>\n",
       "    <tr>\n",
       "      <th>강원/충북</th>\n",
       "      <td>30.9</td>\n",
       "      <td>45.9</td>\n",
       "      <td>23.2</td>\n",
       "    </tr>\n",
       "    <tr>\n",
       "      <th>광주/전남/전북/제주도</th>\n",
       "      <td>31.8</td>\n",
       "      <td>44.9</td>\n",
       "      <td>23.3</td>\n",
       "    </tr>\n",
       "    <tr>\n",
       "      <th>대구/경북</th>\n",
       "      <td>29.6</td>\n",
       "      <td>50.4</td>\n",
       "      <td>20.0</td>\n",
       "    </tr>\n",
       "    <tr>\n",
       "      <th>대전/충남</th>\n",
       "      <td>33.6</td>\n",
       "      <td>41.3</td>\n",
       "      <td>25.0</td>\n",
       "    </tr>\n",
       "    <tr>\n",
       "      <th>부산/경남/울산</th>\n",
       "      <td>33.4</td>\n",
       "      <td>43.8</td>\n",
       "      <td>22.9</td>\n",
       "    </tr>\n",
       "    <tr>\n",
       "      <th>서울</th>\n",
       "      <td>38.5</td>\n",
       "      <td>37.6</td>\n",
       "      <td>23.9</td>\n",
       "    </tr>\n",
       "    <tr>\n",
       "      <th>수도권(인천/경기)</th>\n",
       "      <td>38.8</td>\n",
       "      <td>32.5</td>\n",
       "      <td>28.7</td>\n",
       "    </tr>\n",
       "  </tbody>\n",
       "</table>\n",
       "</div>"
      ],
      "text/plain": [
       "ageg          middle   old  young\n",
       "region                           \n",
       "강원/충북           30.9  45.9   23.2\n",
       "광주/전남/전북/제주도    31.8  44.9   23.3\n",
       "대구/경북           29.6  50.4   20.0\n",
       "대전/충남           33.6  41.3   25.0\n",
       "부산/경남/울산        33.4  43.8   22.9\n",
       "서울              38.5  37.6   23.9\n",
       "수도권(인천/경기)      38.8  32.5   28.7"
      ]
     },
     "execution_count": 61,
     "metadata": {},
     "output_type": "execute_result"
    }
   ],
   "source": [
    "pivot_df"
   ]
  },
  {
   "cell_type": "code",
   "execution_count": 62,
   "id": "a1a6d626-e803-498b-9dae-4591d52a605d",
   "metadata": {},
   "outputs": [
    {
     "data": {
      "text/plain": [
       "<AxesSubplot:ylabel='region'>"
      ]
     },
     "execution_count": 62,
     "metadata": {},
     "output_type": "execute_result"
    },
    {
     "data": {
      "image/png": "[encoded data removed]",
      "text/plain": [
       "<Figure size 432x288 with 1 Axes>"
      ]
     },
     "metadata": {
      "needs_background": "light"
     },
     "output_type": "display_data"
    }
   ],
   "source": [
    "pivot_df.plot.barh(stacked = True)"
   ]
  },
  {
   "cell_type": "code",
   "execution_count": 63,
   "id": "1ec79be9-1f0f-4729-9942-0d45468ef9cf",
   "metadata": {},
   "outputs": [],
   "source": [
    "#노년층 비율 기준 정렬, 변수 순서 바꾸기\n",
    "reorder_df = pivot_df.sort_values('old')[['young','middle','old']]"
   ]
  },
  {
   "cell_type": "code",
   "execution_count": 64,
   "id": "4c650f03-7a47-410d-ac27-278201f5ef96",
   "metadata": {},
   "outputs": [
    {
     "data": {
      "text/html": [
       "<div>\n",
       "<style scoped>\n",
       "    .dataframe tbody tr th:only-of-type {\n",
       "        vertical-align: middle;\n",
       "    }\n",
       "\n",
       "    .dataframe tbody tr th {\n",
       "        vertical-align: top;\n",
       "    }\n",
       "\n",
       "    .dataframe thead th {\n",
       "        text-align: right;\n",
       "    }\n",
       "</style>\n",
       "<table border=\"1\" class=\"dataframe\">\n",
       "  <thead>\n",
       "    <tr style=\"text-align: right;\">\n",
       "      <th>ageg</th>\n",
       "      <th>young</th>\n",
       "      <th>middle</th>\n",
       "      <th>old</th>\n",
       "    </tr>\n",
       "    <tr>\n",
       "      <th>region</th>\n",
       "      <th></th>\n",
       "      <th></th>\n",
       "      <th></th>\n",
       "    </tr>\n",
       "  </thead>\n",
       "  <tbody>\n",
       "    <tr>\n",
       "      <th>수도권(인천/경기)</th>\n",
       "      <td>28.7</td>\n",
       "      <td>38.8</td>\n",
       "      <td>32.5</td>\n",
       "    </tr>\n",
       "    <tr>\n",
       "      <th>서울</th>\n",
       "      <td>23.9</td>\n",
       "      <td>38.5</td>\n",
       "      <td>37.6</td>\n",
       "    </tr>\n",
       "    <tr>\n",
       "      <th>대전/충남</th>\n",
       "      <td>25.0</td>\n",
       "      <td>33.6</td>\n",
       "      <td>41.3</td>\n",
       "    </tr>\n",
       "    <tr>\n",
       "      <th>부산/경남/울산</th>\n",
       "      <td>22.9</td>\n",
       "      <td>33.4</td>\n",
       "      <td>43.8</td>\n",
       "    </tr>\n",
       "    <tr>\n",
       "      <th>광주/전남/전북/제주도</th>\n",
       "      <td>23.3</td>\n",
       "      <td>31.8</td>\n",
       "      <td>44.9</td>\n",
       "    </tr>\n",
       "    <tr>\n",
       "      <th>강원/충북</th>\n",
       "      <td>23.2</td>\n",
       "      <td>30.9</td>\n",
       "      <td>45.9</td>\n",
       "    </tr>\n",
       "    <tr>\n",
       "      <th>대구/경북</th>\n",
       "      <td>20.0</td>\n",
       "      <td>29.6</td>\n",
       "      <td>50.4</td>\n",
       "    </tr>\n",
       "  </tbody>\n",
       "</table>\n",
       "</div>"
      ],
      "text/plain": [
       "ageg          young  middle   old\n",
       "region                           \n",
       "수도권(인천/경기)     28.7    38.8  32.5\n",
       "서울             23.9    38.5  37.6\n",
       "대전/충남          25.0    33.6  41.3\n",
       "부산/경남/울산       22.9    33.4  43.8\n",
       "광주/전남/전북/제주도   23.3    31.8  44.9\n",
       "강원/충북          23.2    30.9  45.9\n",
       "대구/경북          20.0    29.6  50.4"
      ]
     },
     "execution_count": 64,
     "metadata": {},
     "output_type": "execute_result"
    }
   ],
   "source": [
    "reorder_df"
   ]
  },
  {
   "cell_type": "code",
   "execution_count": 65,
   "id": "4a426d3d-0864-4672-9c27-0571e6660fdd",
   "metadata": {},
   "outputs": [
    {
     "data": {
      "text/plain": [
       "<AxesSubplot:ylabel='region'>"
      ]
     },
     "execution_count": 65,
     "metadata": {},
     "output_type": "execute_result"
    },
    {
     "data": {
      "image/png": "[encoded data removed]",
      "text/plain": [
       "<Figure size 432x288 with 1 Axes>"
      ]
     },
     "metadata": {
      "needs_background": "light"
     },
     "output_type": "display_data"
    }
   ],
   "source": [
    "reorder_df.plot.barh(stacked = True)"
   ]
  },
  {
   "cell_type": "code",
   "execution_count": null,
   "id": "c0929be2-406f-4253-b22d-703d3a6d8051",
   "metadata": {},
   "outputs": [],
   "source": []
  }
 ],
 "metadata": {
  "kernelspec": {
   "display_name": "Python 3 (ipykernel)",
   "language": "python",
   "name": "python3"
  },
  "language_info": {
   "codemirror_mode": {
    "name": "ipython",
    "version": 3
   },
   "file_extension": ".py",
   "mimetype": "text/x-python",
   "name": "python",
   "nbconvert_exporter": "python",
   "pygments_lexer": "ipython3",
   "version": "3.9.12"
  }
 },
 "nbformat": 4,
 "nbformat_minor": 5
}
